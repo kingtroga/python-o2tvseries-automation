{
  "nbformat": 4,
  "nbformat_minor": 0,
  "metadata": {
    "colab": {
      "name": "complete.ipynb",
      "provenance": [],
      "collapsed_sections": []
    },
    "kernelspec": {
      "name": "python3",
      "display_name": "Python 3"
    },
    "language_info": {
      "name": "python"
    }
  },
  "cells": [
    {
      "cell_type": "markdown",
      "source": [
        "# Scraping Videos from o2tvseries without Ads "
      ],
      "metadata": {
        "id": "hAvoXXL-DP8U"
      }
    },
    {
      "cell_type": "code",
      "execution_count": 6,
      "metadata": {
        "id": "I5hsqh9mCNjW"
      },
      "outputs": [],
      "source": [
        "import os\n",
        "import requests"
      ]
    },
    {
      "cell_type": "code",
      "source": [
        "def downloadAtlantaEpisode(season, episode):\n",
        "  endpointUrl = f'http://d2.o2tv.org/Atlanta/Season%200{season}/Atlanta%20-%20S0{season}E0{episode}%20HD%20(TvShows4Mobile.Com).mp4'\n",
        "  \n",
        "  response = requests.get(endpointUrl)\n",
        "  \n",
        "  if response.status_code != 200:\n",
        "    return False\n",
        "\n",
        "  return response"
      ],
      "metadata": {
        "id": "hdFK8-Vy_NNu"
      },
      "execution_count": 15,
      "outputs": []
    },
    {
      "cell_type": "code",
      "source": [
        "def directoryExists(season):\n",
        "  directory = f\"\\\\{season}\"\n",
        "  parentDirectory = os.getcwdb().decode('utf-8')\n",
        "  path = parentDirectory + directory\n",
        "\n",
        "  if os.path.exists(path):\n",
        "    return True\n",
        "    \n",
        "  return False"
      ],
      "metadata": {
        "id": "dRvxnXMlAt0s"
      },
      "execution_count": 9,
      "outputs": []
    },
    {
      "cell_type": "code",
      "source": [
        "def makeSeasonDirectory(season):\n",
        "  directory = f\"\\\\{season}\"\n",
        "  parentDirectory = os.getcwdb().decode('utf-8')\n",
        "  path = parentDirectory + directory\n",
        "  try:\n",
        "    os.mkdir(path)\n",
        "  except OSError as error:\n",
        "    return"
      ],
      "metadata": {
        "id": "55bZLKO8A61A"
      },
      "execution_count": 10,
      "outputs": []
    },
    {
      "cell_type": "code",
      "source": [
        "def storeEpisode(season, episode, response):\n",
        "  if not directoryExists(season):\n",
        "    makeSeasonDirectory(season) \n",
        "\n",
        "  with open(f'content\\\\{season}\\\\{episode}.mp4', 'wb') as f:\n",
        "    f.write(response.content)\n"
      ],
      "metadata": {
        "id": "G0JkfKOT_-sn"
      },
      "execution_count": 24,
      "outputs": []
    },
    {
      "cell_type": "code",
      "source": [
        "for season in range(1, 3):\n",
        "\n",
        "  for episode in range(1, 12):\n",
        "    response = downloadAtlantaEpisode(season, episode)\n",
        "\n",
        "    if response:\n",
        "      storeEpisode(season, episode, response)"
      ],
      "metadata": {
        "id": "oLg7GrosC9dR"
      },
      "execution_count": 25,
      "outputs": []
    },
    {
      "cell_type": "code",
      "source": [
        "  directory = f\"\\\\{1}\"\n",
        "  parentDirectory = os.getcwdb().decode('utf-8')\n",
        "  path = parentDirectory + directory\n",
        "  try:\n",
        "    os.mkdir(path)\n",
        "  except OSError as error:\n",
        "    print(\"blah\")"
      ],
      "metadata": {
        "colab": {
          "base_uri": "https://localhost:8080/"
        },
        "id": "1eIe8vxWE9OO",
        "outputId": "30c8b687-a2d7-487d-be49-67d7d357e017"
      },
      "execution_count": 20,
      "outputs": [
        {
          "output_type": "stream",
          "name": "stdout",
          "text": [
            "blah\n"
          ]
        }
      ]
    },
    {
      "cell_type": "code",
      "source": [
        ""
      ],
      "metadata": {
        "id": "M94qOuRdFGaV"
      },
      "execution_count": null,
      "outputs": []
    }
  ]
}